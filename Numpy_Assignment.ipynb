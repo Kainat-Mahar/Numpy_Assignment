{
  "nbformat": 4,
  "nbformat_minor": 0,
  "metadata": {
    "colab": {
      "name": "Numpy_Assignment.ipynb",
      "provenance": [],
      "collapsed_sections": []
    },
    "kernelspec": {
      "display_name": "Python 3",
      "name": "python3"
    }
  },
  "cells": [
    {
      "cell_type": "markdown",
      "metadata": {
        "id": "Q6CDQ0oxfD3d"
      },
      "source": [
        "# **Numpy Assignment**"
      ]
    },
    {
      "cell_type": "code",
      "metadata": {
        "id": "pqG4o-NvfYzZ"
      },
      "source": [
        "import numpy as np"
      ],
      "execution_count": 1,
      "outputs": []
    },
    {
      "cell_type": "markdown",
      "metadata": {
        "id": "fEVqisyqy97r"
      },
      "source": [
        "**1.   np.array function**"
      ]
    },
    {
      "cell_type": "code",
      "metadata": {
        "colab": {
          "base_uri": "https://localhost:8080/"
        },
        "id": "KLCaexqQfcB3",
        "outputId": "8cba3fb7-e741-4511-8f3d-27dde48085eb"
      },
      "source": [
        "a = np.array([[4,6,5],[2, 3, 1], ['a','b','c']])\r\n",
        "print(a)"
      ],
      "execution_count": 2,
      "outputs": [
        {
          "output_type": "stream",
          "text": [
            "[['4' '6' '5']\n",
            " ['2' '3' '1']\n",
            " ['a' 'b' 'c']]\n"
          ],
          "name": "stdout"
        }
      ]
    },
    {
      "cell_type": "code",
      "metadata": {
        "colab": {
          "base_uri": "https://localhost:8080/"
        },
        "id": "4prveHBH0XAJ",
        "outputId": "0e4f3c05-6cf9-44d3-cf3f-201c9b12a0e7"
      },
      "source": [
        "print(type(a))"
      ],
      "execution_count": 3,
      "outputs": [
        {
          "output_type": "stream",
          "text": [
            "<class 'numpy.ndarray'>\n"
          ],
          "name": "stdout"
        }
      ]
    },
    {
      "cell_type": "markdown",
      "metadata": {
        "id": "TKyXrgf80me_"
      },
      "source": [
        "**2.   np.zeros**"
      ]
    },
    {
      "cell_type": "code",
      "metadata": {
        "colab": {
          "base_uri": "https://localhost:8080/"
        },
        "id": "HIfKmj6o0cfw",
        "outputId": "052195ce-97c2-478d-d0f5-e9e1a7d12b4b"
      },
      "source": [
        "b_0 = np.zeros(4)\r\n",
        "print(b_0)"
      ],
      "execution_count": 4,
      "outputs": [
        {
          "output_type": "stream",
          "text": [
            "[0. 0. 0. 0.]\n"
          ],
          "name": "stdout"
        }
      ]
    },
    {
      "cell_type": "markdown",
      "metadata": {
        "id": "jKaUZg2tkAsz"
      },
      "source": [
        "**3.  np.ones**"
      ]
    },
    {
      "cell_type": "code",
      "metadata": {
        "colab": {
          "base_uri": "https://localhost:8080/"
        },
        "id": "Uju84mv-kGiY",
        "outputId": "9100d895-67c7-4121-cbff-65deeaa71289"
      },
      "source": [
        "b_1 = np.ones(4)\r\n",
        "print(b_1)"
      ],
      "execution_count": 5,
      "outputs": [
        {
          "output_type": "stream",
          "text": [
            "[1. 1. 1. 1.]\n"
          ],
          "name": "stdout"
        }
      ]
    },
    {
      "cell_type": "markdown",
      "metadata": {
        "id": "4-M1m9sY1MxA"
      },
      "source": [
        "**4. np.linspace**"
      ]
    },
    {
      "cell_type": "code",
      "metadata": {
        "colab": {
          "base_uri": "https://localhost:8080/"
        },
        "id": "tppxY99z1RKZ",
        "outputId": "c94b73a9-78b2-408e-f143-f811819712b6"
      },
      "source": [
        "c = np.linspace(20, 100, 20)\r\n",
        "print(c)"
      ],
      "execution_count": 6,
      "outputs": [
        {
          "output_type": "stream",
          "text": [
            "[ 20.          24.21052632  28.42105263  32.63157895  36.84210526\n",
            "  41.05263158  45.26315789  49.47368421  53.68421053  57.89473684\n",
            "  62.10526316  66.31578947  70.52631579  74.73684211  78.94736842\n",
            "  83.15789474  87.36842105  91.57894737  95.78947368 100.        ]\n"
          ],
          "name": "stdout"
        }
      ]
    },
    {
      "cell_type": "markdown",
      "metadata": {
        "id": "oDU6DoI51iLt"
      },
      "source": [
        "**5. np.sort**"
      ]
    },
    {
      "cell_type": "code",
      "metadata": {
        "colab": {
          "base_uri": "https://localhost:8080/"
        },
        "id": "KSRlNl1W1tr6",
        "outputId": "98317a0e-8ded-43c3-bbf4-5617d7701b6c"
      },
      "source": [
        "print ('Array Before Sorting', a)\r\n",
        "arr=np.sort(a)\r\n",
        "print ('Array After Sorting', arr)"
      ],
      "execution_count": 7,
      "outputs": [
        {
          "output_type": "stream",
          "text": [
            "Array Before Sorting [['4' '6' '5']\n",
            " ['2' '3' '1']\n",
            " ['a' 'b' 'c']]\n",
            "Array After Sorting [['4' '5' '6']\n",
            " ['1' '2' '3']\n",
            " ['a' 'b' 'c']]\n"
          ],
          "name": "stdout"
        }
      ]
    },
    {
      "cell_type": "markdown",
      "metadata": {
        "id": "-J3TmqdU4LjJ"
      },
      "source": [
        "**6. np.argsort**"
      ]
    },
    {
      "cell_type": "code",
      "metadata": {
        "colab": {
          "base_uri": "https://localhost:8080/"
        },
        "id": "nwOgYNPo2zTe",
        "outputId": "6a92f666-9cd0-4e9a-9838-2a70ca83f738"
      },
      "source": [
        "arr= np.argsort(a)\r\n",
        "print(arr)"
      ],
      "execution_count": 8,
      "outputs": [
        {
          "output_type": "stream",
          "text": [
            "[[0 2 1]\n",
            " [2 0 1]\n",
            " [0 1 2]]\n"
          ],
          "name": "stdout"
        }
      ]
    },
    {
      "cell_type": "markdown",
      "metadata": {
        "id": "TdaQLDVo4SXL"
      },
      "source": [
        "**7. np.concatenate**"
      ]
    },
    {
      "cell_type": "code",
      "metadata": {
        "colab": {
          "base_uri": "https://localhost:8080/"
        },
        "id": "W1Lh4Xll3Zmo",
        "outputId": "ea9d04ad-696c-4d35-8a73-ef7e55b6d8a1"
      },
      "source": [
        "b=np.array([['x','y','z'],[9,8,7]])\r\n",
        "x = np.concatenate((a,b))\r\n",
        "print(x)"
      ],
      "execution_count": 9,
      "outputs": [
        {
          "output_type": "stream",
          "text": [
            "[['4' '6' '5']\n",
            " ['2' '3' '1']\n",
            " ['a' 'b' 'c']\n",
            " ['x' 'y' 'z']\n",
            " ['9' '8' '7']]\n"
          ],
          "name": "stdout"
        }
      ]
    },
    {
      "cell_type": "markdown",
      "metadata": {
        "id": "d1ob_7_V4y0b"
      },
      "source": [
        "**8. shape of array**"
      ]
    },
    {
      "cell_type": "code",
      "metadata": {
        "colab": {
          "base_uri": "https://localhost:8080/"
        },
        "id": "BI8DxbBD5Fj0",
        "outputId": "e3f3f9a8-4543-42a3-d488-a0418a31005c"
      },
      "source": [
        "print('Shape: ', x.shape)"
      ],
      "execution_count": 10,
      "outputs": [
        {
          "output_type": "stream",
          "text": [
            "Shape:  (5, 3)\n"
          ],
          "name": "stdout"
        }
      ]
    },
    {
      "cell_type": "markdown",
      "metadata": {
        "id": "7qWYI_bCkaEM"
      },
      "source": [
        "**9.  size of array**"
      ]
    },
    {
      "cell_type": "code",
      "metadata": {
        "colab": {
          "base_uri": "https://localhost:8080/"
        },
        "id": "L4wbZ0mSkeNL",
        "outputId": "b22f889f-abcb-46c9-d0f5-ef95d9173160"
      },
      "source": [
        "print('Size: ', x.size)"
      ],
      "execution_count": 11,
      "outputs": [
        {
          "output_type": "stream",
          "text": [
            "Size:  15\n"
          ],
          "name": "stdout"
        }
      ]
    },
    {
      "cell_type": "markdown",
      "metadata": {
        "id": "akpnMYmXIiBf"
      },
      "source": [
        "**10. Dimensions of Array**"
      ]
    },
    {
      "cell_type": "code",
      "metadata": {
        "colab": {
          "base_uri": "https://localhost:8080/"
        },
        "id": "s4WJXuEpIoH2",
        "outputId": "daba9897-3cc7-469b-c972-d25c07f45912"
      },
      "source": [
        "print('Dimensions: ', x.ndim)"
      ],
      "execution_count": 12,
      "outputs": [
        {
          "output_type": "stream",
          "text": [
            "Dimensions:  2\n"
          ],
          "name": "stdout"
        }
      ]
    },
    {
      "cell_type": "markdown",
      "metadata": {
        "id": "-qbMFTElesBY"
      },
      "source": [
        "**11. np.arange**"
      ]
    },
    {
      "cell_type": "code",
      "metadata": {
        "colab": {
          "base_uri": "https://localhost:8080/"
        },
        "id": "5IRh7AQLerjk",
        "outputId": "de740dfa-0f4d-419e-b924-201a192a2dce"
      },
      "source": [
        "arr= np.arange(0,12,2)\r\n",
        "print(arr)"
      ],
      "execution_count": 13,
      "outputs": [
        {
          "output_type": "stream",
          "text": [
            "[ 0  2  4  6  8 10]\n"
          ],
          "name": "stdout"
        }
      ]
    },
    {
      "cell_type": "markdown",
      "metadata": {
        "id": "ICIY_Jpo5rWk"
      },
      "source": [
        "**12. np.reshape**"
      ]
    },
    {
      "cell_type": "code",
      "metadata": {
        "colab": {
          "base_uri": "https://localhost:8080/"
        },
        "id": "Rf09eqAL5jLs",
        "outputId": "477fe777-5a24-42d5-932e-938b7cd8ddf7"
      },
      "source": [
        "arr = arr.reshape(3,2)\r\n",
        "print(arr)"
      ],
      "execution_count": 14,
      "outputs": [
        {
          "output_type": "stream",
          "text": [
            "[[ 0  2]\n",
            " [ 4  6]\n",
            " [ 8 10]]\n"
          ],
          "name": "stdout"
        }
      ]
    },
    {
      "cell_type": "markdown",
      "metadata": {
        "id": "uP6EuHZugBWA"
      },
      "source": [
        "**13. np.newaxis (Row Vector)**"
      ]
    },
    {
      "cell_type": "code",
      "metadata": {
        "colab": {
          "base_uri": "https://localhost:8080/"
        },
        "id": "kU--BU3zgAa8",
        "outputId": "e9b42725-bb75-4355-9698-cecd465c74e2"
      },
      "source": [
        "a2 = a[np.newaxis, :]\r\n",
        "a2.shape"
      ],
      "execution_count": 15,
      "outputs": [
        {
          "output_type": "execute_result",
          "data": {
            "text/plain": [
              "(1, 3, 3)"
            ]
          },
          "metadata": {
            "tags": []
          },
          "execution_count": 15
        }
      ]
    },
    {
      "cell_type": "markdown",
      "metadata": {
        "id": "NuzyG0H-gPbc"
      },
      "source": [
        "**14. np.newaxis (Column Vector)**"
      ]
    },
    {
      "cell_type": "code",
      "metadata": {
        "colab": {
          "base_uri": "https://localhost:8080/"
        },
        "id": "TaYhcWRdgTdM",
        "outputId": "cf273a33-d03e-49cd-e191-4cd272b674be"
      },
      "source": [
        "a2 = a[:, np.newaxis]\r\n",
        "a2.shape"
      ],
      "execution_count": 16,
      "outputs": [
        {
          "output_type": "execute_result",
          "data": {
            "text/plain": [
              "(3, 1, 3)"
            ]
          },
          "metadata": {
            "tags": []
          },
          "execution_count": 16
        }
      ]
    },
    {
      "cell_type": "markdown",
      "metadata": {
        "id": "yM85okSvgpVb"
      },
      "source": [
        "**15. np.expand_dims**"
      ]
    },
    {
      "cell_type": "code",
      "metadata": {
        "colab": {
          "base_uri": "https://localhost:8080/"
        },
        "id": "kpi_04oCgtX1",
        "outputId": "40203957-5c42-41ea-f9ca-ae19b663b553"
      },
      "source": [
        "c = np.expand_dims(a, axis=0)\r\n",
        "c.shape"
      ],
      "execution_count": 17,
      "outputs": [
        {
          "output_type": "execute_result",
          "data": {
            "text/plain": [
              "(1, 3, 3)"
            ]
          },
          "metadata": {
            "tags": []
          },
          "execution_count": 17
        }
      ]
    },
    {
      "cell_type": "markdown",
      "metadata": {
        "id": "gZKzYwaQg6VR"
      },
      "source": [
        "**16. np.sum**"
      ]
    },
    {
      "cell_type": "code",
      "metadata": {
        "colab": {
          "base_uri": "https://localhost:8080/"
        },
        "id": "oNCKvLuMg5OA",
        "outputId": "dc546d49-039b-4cfc-c99b-8e3a8dbbd4cf"
      },
      "source": [
        "s = np.array([[1 , 2, 3, 4], [5, 6, 7, 8], [9, 10, 11, 12]])\r\n",
        "np.sum(s)"
      ],
      "execution_count": 18,
      "outputs": [
        {
          "output_type": "execute_result",
          "data": {
            "text/plain": [
              "78"
            ]
          },
          "metadata": {
            "tags": []
          },
          "execution_count": 18
        }
      ]
    },
    {
      "cell_type": "markdown",
      "metadata": {
        "id": "CHchVIYnhLQu"
      },
      "source": [
        "**17. np.vstack**"
      ]
    },
    {
      "cell_type": "code",
      "metadata": {
        "colab": {
          "base_uri": "https://localhost:8080/"
        },
        "id": "jnurwoCBhSYX",
        "outputId": "c7b3be5b-2f03-4ec6-8f8f-d6110e2a053e"
      },
      "source": [
        "np.vstack((b_0, b_1))"
      ],
      "execution_count": 19,
      "outputs": [
        {
          "output_type": "execute_result",
          "data": {
            "text/plain": [
              "array([[0., 0., 0., 0.],\n",
              "       [1., 1., 1., 1.]])"
            ]
          },
          "metadata": {
            "tags": []
          },
          "execution_count": 19
        }
      ]
    },
    {
      "cell_type": "markdown",
      "metadata": {
        "id": "Xvzsyo-fhftl"
      },
      "source": [
        "**18. np.hstack**"
      ]
    },
    {
      "cell_type": "code",
      "metadata": {
        "colab": {
          "base_uri": "https://localhost:8080/"
        },
        "id": "ECDnPKHDhkMu",
        "outputId": "207bda13-7abd-4212-bd9d-1fbc188c7435"
      },
      "source": [
        "np.vstack((a,b))"
      ],
      "execution_count": 20,
      "outputs": [
        {
          "output_type": "execute_result",
          "data": {
            "text/plain": [
              "array([['4', '6', '5'],\n",
              "       ['2', '3', '1'],\n",
              "       ['a', 'b', 'c'],\n",
              "       ['x', 'y', 'z'],\n",
              "       ['9', '8', '7']], dtype='<U21')"
            ]
          },
          "metadata": {
            "tags": []
          },
          "execution_count": 20
        }
      ]
    },
    {
      "cell_type": "markdown",
      "metadata": {
        "id": "5xfFMjtGhpfK"
      },
      "source": [
        "**19. np.hsplit**"
      ]
    },
    {
      "cell_type": "code",
      "metadata": {
        "colab": {
          "base_uri": "https://localhost:8080/"
        },
        "id": "asw6bgn5huFy",
        "outputId": "ea7cde1c-bcab-41f4-e014-ba182dccd8ce"
      },
      "source": [
        "np.hsplit(x, 3)"
      ],
      "execution_count": 21,
      "outputs": [
        {
          "output_type": "execute_result",
          "data": {
            "text/plain": [
              "[array([['4'],\n",
              "        ['2'],\n",
              "        ['a'],\n",
              "        ['x'],\n",
              "        ['9']], dtype='<U21'), array([['6'],\n",
              "        ['3'],\n",
              "        ['b'],\n",
              "        ['y'],\n",
              "        ['8']], dtype='<U21'), array([['5'],\n",
              "        ['1'],\n",
              "        ['c'],\n",
              "        ['z'],\n",
              "        ['7']], dtype='<U21')]"
            ]
          },
          "metadata": {
            "tags": []
          },
          "execution_count": 21
        }
      ]
    },
    {
      "cell_type": "markdown",
      "metadata": {
        "id": "-fSsLatdh28I"
      },
      "source": [
        "**20. copy function**"
      ]
    },
    {
      "cell_type": "code",
      "metadata": {
        "colab": {
          "base_uri": "https://localhost:8080/"
        },
        "id": "Q_FtqyVQh-Xs",
        "outputId": "51dfc0a0-8ce3-4406-caca-54f4a3194def"
      },
      "source": [
        "y = x.copy()\r\n",
        "print(y)"
      ],
      "execution_count": 22,
      "outputs": [
        {
          "output_type": "stream",
          "text": [
            "[['4' '6' '5']\n",
            " ['2' '3' '1']\n",
            " ['a' 'b' 'c']\n",
            " ['x' 'y' 'z']\n",
            " ['9' '8' '7']]\n"
          ],
          "name": "stdout"
        }
      ]
    },
    {
      "cell_type": "markdown",
      "metadata": {
        "id": "sVBwk38LhIKD"
      },
      "source": [
        "**21. view function**\r\n"
      ]
    },
    {
      "cell_type": "code",
      "metadata": {
        "colab": {
          "base_uri": "https://localhost:8080/"
        },
        "id": "hfJq_78xiLUV",
        "outputId": "84bbe231-79c5-4096-fce8-2cdd6c28fb21"
      },
      "source": [
        "y.view()"
      ],
      "execution_count": 23,
      "outputs": [
        {
          "output_type": "execute_result",
          "data": {
            "text/plain": [
              "array([['4', '6', '5'],\n",
              "       ['2', '3', '1'],\n",
              "       ['a', 'b', 'c'],\n",
              "       ['x', 'y', 'z'],\n",
              "       ['9', '8', '7']], dtype='<U21')"
            ]
          },
          "metadata": {
            "tags": []
          },
          "execution_count": 23
        }
      ]
    },
    {
      "cell_type": "markdown",
      "metadata": {
        "id": "SSObTLifiPay"
      },
      "source": [
        "**22. max function**"
      ]
    },
    {
      "cell_type": "code",
      "metadata": {
        "colab": {
          "base_uri": "https://localhost:8080/"
        },
        "id": "qqiAXDfdiYAC",
        "outputId": "2ed0feff-fefa-4fb7-ed6b-77a988abe138"
      },
      "source": [
        "s.max()"
      ],
      "execution_count": 24,
      "outputs": [
        {
          "output_type": "execute_result",
          "data": {
            "text/plain": [
              "12"
            ]
          },
          "metadata": {
            "tags": []
          },
          "execution_count": 24
        }
      ]
    },
    {
      "cell_type": "markdown",
      "metadata": {
        "id": "il3BBVQyibSx"
      },
      "source": [
        "**23. min function**"
      ]
    },
    {
      "cell_type": "code",
      "metadata": {
        "colab": {
          "base_uri": "https://localhost:8080/"
        },
        "id": "tghr4Md4ijNl",
        "outputId": "58b14f41-8db2-491a-ab75-fa90275ea342"
      },
      "source": [
        "s.min()"
      ],
      "execution_count": 25,
      "outputs": [
        {
          "output_type": "execute_result",
          "data": {
            "text/plain": [
              "1"
            ]
          },
          "metadata": {
            "tags": []
          },
          "execution_count": 25
        }
      ]
    },
    {
      "cell_type": "markdown",
      "metadata": {
        "id": "iImM8A7Piyyi"
      },
      "source": [
        "**24. np.random.default_rng**"
      ]
    },
    {
      "cell_type": "code",
      "metadata": {
        "colab": {
          "base_uri": "https://localhost:8080/"
        },
        "id": "6AuXzAvei35l",
        "outputId": "d6e27f98-8ee3-43d5-d360-c800aa15d16e"
      },
      "source": [
        "rng = np.random.default_rng(0)\r\n",
        "rng.random((3, 2))"
      ],
      "execution_count": 26,
      "outputs": [
        {
          "output_type": "execute_result",
          "data": {
            "text/plain": [
              "array([[0.63696169, 0.26978671],\n",
              "       [0.04097352, 0.01652764],\n",
              "       [0.81327024, 0.91275558]])"
            ]
          },
          "metadata": {
            "tags": []
          },
          "execution_count": 26
        }
      ]
    },
    {
      "cell_type": "markdown",
      "metadata": {
        "id": "74GDk92djLpB"
      },
      "source": [
        "**25. np.unique**"
      ]
    },
    {
      "cell_type": "code",
      "metadata": {
        "colab": {
          "base_uri": "https://localhost:8080/"
        },
        "id": "IJtbql95jR-R",
        "outputId": "c991f279-9997-4616-97e2-3caff4f46e37"
      },
      "source": [
        "np.unique(a, axis=0)"
      ],
      "execution_count": 27,
      "outputs": [
        {
          "output_type": "execute_result",
          "data": {
            "text/plain": [
              "array([['2', '3', '1'],\n",
              "       ['4', '6', '5'],\n",
              "       ['a', 'b', 'c']], dtype='<U21')"
            ]
          },
          "metadata": {
            "tags": []
          },
          "execution_count": 27
        }
      ]
    },
    {
      "cell_type": "markdown",
      "metadata": {
        "id": "uwzDDQFujn7T"
      },
      "source": [
        "**26. transpose function**"
      ]
    },
    {
      "cell_type": "code",
      "metadata": {
        "colab": {
          "base_uri": "https://localhost:8080/"
        },
        "id": "7eLHx_lXjs-_",
        "outputId": "40699df5-7851-4568-f0a7-819526bc6a15"
      },
      "source": [
        "x.transpose()"
      ],
      "execution_count": 28,
      "outputs": [
        {
          "output_type": "execute_result",
          "data": {
            "text/plain": [
              "array([['4', '2', 'a', 'x', '9'],\n",
              "       ['6', '3', 'b', 'y', '8'],\n",
              "       ['5', '1', 'c', 'z', '7']], dtype='<U21')"
            ]
          },
          "metadata": {
            "tags": []
          },
          "execution_count": 28
        }
      ]
    },
    {
      "cell_type": "markdown",
      "metadata": {
        "id": "mXCqCuweJQ_k"
      },
      "source": [
        "**27. np.flip**"
      ]
    },
    {
      "cell_type": "code",
      "metadata": {
        "colab": {
          "base_uri": "https://localhost:8080/"
        },
        "id": "1tF9Ww2nJVV2",
        "outputId": "9ab4e05d-7056-4f79-d400-fefdbcec502e"
      },
      "source": [
        "arr=np.flip(s)\r\n",
        "arr"
      ],
      "execution_count": 29,
      "outputs": [
        {
          "output_type": "execute_result",
          "data": {
            "text/plain": [
              "array([[12, 11, 10,  9],\n",
              "       [ 8,  7,  6,  5],\n",
              "       [ 4,  3,  2,  1]])"
            ]
          },
          "metadata": {
            "tags": []
          },
          "execution_count": 29
        }
      ]
    },
    {
      "cell_type": "markdown",
      "metadata": {
        "id": "Pm5sRINQJrFC"
      },
      "source": [
        "**28. reversing selected column**"
      ]
    },
    {
      "cell_type": "code",
      "metadata": {
        "colab": {
          "base_uri": "https://localhost:8080/"
        },
        "id": "bLrbTfCBJ2Oe",
        "outputId": "2e730274-e15a-4266-dce6-3f42c142204f"
      },
      "source": [
        "s[1] = np.flip(s[1])\r\n",
        "print(s)"
      ],
      "execution_count": 30,
      "outputs": [
        {
          "output_type": "stream",
          "text": [
            "[[ 1  2  3  4]\n",
            " [ 8  7  6  5]\n",
            " [ 9 10 11 12]]\n"
          ],
          "name": "stdout"
        }
      ]
    },
    {
      "cell_type": "markdown",
      "metadata": {
        "id": "4UqRdLT5KWXW"
      },
      "source": [
        "**29. flatten function**"
      ]
    },
    {
      "cell_type": "code",
      "metadata": {
        "colab": {
          "base_uri": "https://localhost:8080/"
        },
        "id": "O6foXMcxKaCZ",
        "outputId": "cb45e86e-e118-4d8f-fd6e-639e5e4753ef"
      },
      "source": [
        "x.flatten()"
      ],
      "execution_count": 31,
      "outputs": [
        {
          "output_type": "execute_result",
          "data": {
            "text/plain": [
              "array(['4', '6', '5', '2', '3', '1', 'a', 'b', 'c', 'x', 'y', 'z', '9',\n",
              "       '8', '7'], dtype='<U21')"
            ]
          },
          "metadata": {
            "tags": []
          },
          "execution_count": 31
        }
      ]
    },
    {
      "cell_type": "markdown",
      "metadata": {
        "id": "WQ2heXVkKc3M"
      },
      "source": [
        "**30. ravel function**"
      ]
    },
    {
      "cell_type": "code",
      "metadata": {
        "colab": {
          "base_uri": "https://localhost:8080/"
        },
        "id": "Kpl3BMZCKigL",
        "outputId": "3fed7b74-b315-4dcb-fb0a-0cdb7f0c2609"
      },
      "source": [
        "a.ravel()"
      ],
      "execution_count": 32,
      "outputs": [
        {
          "output_type": "execute_result",
          "data": {
            "text/plain": [
              "array(['4', '6', '5', '2', '3', '1', 'a', 'b', 'c'], dtype='<U21')"
            ]
          },
          "metadata": {
            "tags": []
          },
          "execution_count": 32
        }
      ]
    },
    {
      "cell_type": "markdown",
      "metadata": {
        "id": "TJZM849sK419"
      },
      "source": [
        "**31. np.square**"
      ]
    },
    {
      "cell_type": "code",
      "metadata": {
        "colab": {
          "base_uri": "https://localhost:8080/"
        },
        "id": "FbBZx_zfK4Cu",
        "outputId": "8db6d760-910f-4bc7-cbd5-cd5c23d273cf"
      },
      "source": [
        "sqr = np.square(s)\r\n",
        "print(sqr)"
      ],
      "execution_count": 33,
      "outputs": [
        {
          "output_type": "stream",
          "text": [
            "[[  1   4   9  16]\n",
            " [ 64  49  36  25]\n",
            " [ 81 100 121 144]]\n"
          ],
          "name": "stdout"
        }
      ]
    },
    {
      "cell_type": "markdown",
      "metadata": {
        "id": "yF6Oe_6fLM-3"
      },
      "source": [
        "**32. np.save**"
      ]
    },
    {
      "cell_type": "code",
      "metadata": {
        "id": "S4vzXR48LPFh"
      },
      "source": [
        "np.save('filename', sqr)"
      ],
      "execution_count": 34,
      "outputs": []
    },
    {
      "cell_type": "markdown",
      "metadata": {
        "id": "d_0ZAs_dLj5R"
      },
      "source": [
        "**33. np.load**"
      ]
    },
    {
      "cell_type": "code",
      "metadata": {
        "colab": {
          "base_uri": "https://localhost:8080/"
        },
        "id": "KEcbcwDmLg45",
        "outputId": "d50c9281-344a-48fd-ed0e-5f83ea0678fe"
      },
      "source": [
        "z = np.load('filename.npy')\r\n",
        "print(z)"
      ],
      "execution_count": 35,
      "outputs": [
        {
          "output_type": "stream",
          "text": [
            "[[  1   4   9  16]\n",
            " [ 64  49  36  25]\n",
            " [ 81 100 121 144]]\n"
          ],
          "name": "stdout"
        }
      ]
    },
    {
      "cell_type": "markdown",
      "metadata": {
        "id": "-j30LqprL4xU"
      },
      "source": [
        "**34. np.savetxt**"
      ]
    },
    {
      "cell_type": "code",
      "metadata": {
        "id": "-2Ou3E34L8M4"
      },
      "source": [
        "np.savetxt('new_file.csv', arr)"
      ],
      "execution_count": 36,
      "outputs": []
    },
    {
      "cell_type": "markdown",
      "metadata": {
        "id": "HMeEmki5L-uK"
      },
      "source": [
        "**35. np.loadtxt**"
      ]
    },
    {
      "cell_type": "code",
      "metadata": {
        "colab": {
          "base_uri": "https://localhost:8080/"
        },
        "id": "-BlEUyl5MHHc",
        "outputId": "faef5a72-0875-4df5-b60f-4e429a01d73b"
      },
      "source": [
        "np.loadtxt('new_file.csv')"
      ],
      "execution_count": 37,
      "outputs": [
        {
          "output_type": "execute_result",
          "data": {
            "text/plain": [
              "array([[12., 11., 10.,  9.],\n",
              "       [ 5.,  6.,  7.,  8.],\n",
              "       [ 4.,  3.,  2.,  1.]])"
            ]
          },
          "metadata": {
            "tags": []
          },
          "execution_count": 37
        }
      ]
    },
    {
      "cell_type": "markdown",
      "metadata": {
        "id": "5alMsSzyM8Y_"
      },
      "source": [
        "**36. np.sin**"
      ]
    },
    {
      "cell_type": "code",
      "metadata": {
        "colab": {
          "base_uri": "https://localhost:8080/",
          "height": 264
        },
        "id": "bnUqBEHBQFLb",
        "outputId": "36068837-6801-4a2b-b5bd-df73d62706ed"
      },
      "source": [
        "import matplotlib.pyplot as plt \r\n",
        "gr = np.linspace(0,100,111)\r\n",
        "sinf = np.sin(gr)\r\n",
        "plt.plot(gr, sinf)\r\n",
        "plt.show()"
      ],
      "execution_count": 38,
      "outputs": [
        {
          "output_type": "display_data",
          "data": {
            "image/png": "[encoded data removed]",
            "text/plain": [
              "<Figure size 432x288 with 1 Axes>"
            ]
          },
          "metadata": {
            "tags": [],
            "needs_background": "light"
          }
        }
      ]
    },
    {
      "cell_type": "markdown",
      "metadata": {
        "id": "p0wyIJelRp3n"
      },
      "source": [
        "**37. np.cos**"
      ]
    },
    {
      "cell_type": "code",
      "metadata": {
        "colab": {
          "base_uri": "https://localhost:8080/",
          "height": 264
        },
        "id": "2bWKFaLCPwW9",
        "outputId": "d8a898d7-96ac-45a9-f116-4745ec8d058b"
      },
      "source": [
        "cosf = np.cos(gr)\r\n",
        "plt.plot(gr, cosf)\r\n",
        "plt.show()"
      ],
      "execution_count": 39,
      "outputs": [
        {
          "output_type": "display_data",
          "data": {
            "image/png": "[encoded data removed]",
            "text/plain": [
              "<Figure size 432x288 with 1 Axes>"
            ]
          },
          "metadata": {
            "tags": [],
            "needs_background": "light"
          }
        }
      ]
    },
    {
      "cell_type": "markdown",
      "metadata": {
        "id": "4tG-0ZY9R7u1"
      },
      "source": [
        "**38. np.exp**"
      ]
    },
    {
      "cell_type": "code",
      "metadata": {
        "colab": {
          "base_uri": "https://localhost:8080/",
          "height": 275
        },
        "id": "AVp005vVSAOI",
        "outputId": "276667e1-0714-45c3-bdfc-f2f2d8dcec94"
      },
      "source": [
        "expf = np.exp(gr)\r\n",
        "plt.plot(gr, expf)\r\n",
        "plt.show()"
      ],
      "execution_count": 40,
      "outputs": [
        {
          "output_type": "display_data",
          "data": {
            "image/png": "[encoded data removed]",
            "text/plain": [
              "<Figure size 432x288 with 1 Axes>"
            ]
          },
          "metadata": {
            "tags": [],
            "needs_background": "light"
          }
        }
      ]
    },
    {
      "cell_type": "markdown",
      "metadata": {
        "id": "axXu38QbSIVh"
      },
      "source": [
        "**39. np.log**"
      ]
    },
    {
      "cell_type": "code",
      "metadata": {
        "colab": {
          "base_uri": "https://localhost:8080/",
          "height": 300
        },
        "id": "B52vF6qJbI76",
        "outputId": "a2647fd3-34c5-425d-96f2-9d24a7384e8b"
      },
      "source": [
        "logf = np.log(gr)\r\n",
        "plt.plot(gr, logf)\r\n",
        "plt.show()"
      ],
      "execution_count": 41,
      "outputs": [
        {
          "output_type": "stream",
          "text": [
            "/usr/local/lib/python3.6/dist-packages/ipykernel_launcher.py:1: RuntimeWarning: divide by zero encountered in log\n",
            "  \"\"\"Entry point for launching an IPython kernel.\n"
          ],
          "name": "stderr"
        },
        {
          "output_type": "display_data",
          "data": {
            "image/png": "[encoded data removed]",
            "text/plain": [
              "<Figure size 432x288 with 1 Axes>"
            ]
          },
          "metadata": {
            "tags": [],
            "needs_background": "light"
          }
        }
      ]
    },
    {
      "cell_type": "markdown",
      "metadata": {
        "id": "h6CKM1QfbUaF"
      },
      "source": [
        "**40. numpy.digitize**"
      ]
    },
    {
      "cell_type": "code",
      "metadata": {
        "colab": {
          "base_uri": "https://localhost:8080/"
        },
        "id": "uyrsDKibbWmc",
        "outputId": "f9bb2ba1-b3e3-47cb-a9d8-dd9316976ee5"
      },
      "source": [
        "bins = np.array([0,1,2,3])\r\n",
        "c = np.digitize(c,bins)\r\n",
        "print(c)"
      ],
      "execution_count": 42,
      "outputs": [
        {
          "output_type": "stream",
          "text": [
            "[[[4 4 4]\n",
            "  [3 4 2]\n",
            "  [4 4 4]]]\n"
          ],
          "name": "stdout"
        }
      ]
    },
    {
      "cell_type": "markdown",
      "metadata": {
        "id": "Cf2QhFBYb2PC"
      },
      "source": [
        "**41. np.repeat**"
      ]
    },
    {
      "cell_type": "code",
      "metadata": {
        "colab": {
          "base_uri": "https://localhost:8080/"
        },
        "id": "4ScJxPNTb5Gg",
        "outputId": "53047f0d-818e-4662-ed6b-c1b7d48043da"
      },
      "source": [
        "rpt = np.repeat(5,10)\r\n",
        "print(rpt)"
      ],
      "execution_count": 43,
      "outputs": [
        {
          "output_type": "stream",
          "text": [
            "[5 5 5 5 5 5 5 5 5 5]\n"
          ],
          "name": "stdout"
        }
      ]
    },
    {
      "cell_type": "markdown",
      "metadata": {
        "id": "yThkwB4rcTzN"
      },
      "source": [
        "**42. np.argmax**"
      ]
    },
    {
      "cell_type": "code",
      "metadata": {
        "colab": {
          "base_uri": "https://localhost:8080/"
        },
        "id": "p16Lskg_cXGG",
        "outputId": "78169942-a4d8-4c92-ff3e-72c8dd997e89"
      },
      "source": [
        "max_pos = np.argmax(arr)\r\n",
        "print(max_pos)"
      ],
      "execution_count": 44,
      "outputs": [
        {
          "output_type": "stream",
          "text": [
            "0\n"
          ],
          "name": "stdout"
        }
      ]
    },
    {
      "cell_type": "markdown",
      "metadata": {
        "id": "nE4uOFnfeo6h"
      },
      "source": [
        "**43. np.squeeze**"
      ]
    },
    {
      "cell_type": "code",
      "metadata": {
        "colab": {
          "base_uri": "https://localhost:8080/"
        },
        "id": "o04F2M2nehET",
        "outputId": "81d0a64f-a4f4-4427-f1ad-a85967cd19d7"
      },
      "source": [
        "a_2 = np.squeeze(x, axis=None)\r\n",
        "print(a_2)"
      ],
      "execution_count": 45,
      "outputs": [
        {
          "output_type": "stream",
          "text": [
            "[['4' '6' '5']\n",
            " ['2' '3' '1']\n",
            " ['a' 'b' 'c']\n",
            " ['x' 'y' 'z']\n",
            " ['9' '8' '7']]\n"
          ],
          "name": "stdout"
        }
      ]
    },
    {
      "cell_type": "markdown",
      "metadata": {
        "id": "wnDtb7CjfHJl"
      },
      "source": [
        "**44. np.histogram**"
      ]
    },
    {
      "cell_type": "code",
      "metadata": {
        "colab": {
          "base_uri": "https://localhost:8080/"
        },
        "id": "6tDQz9w2fCWE",
        "outputId": "e6f097b2-7ed8-45d2-93d5-d631687a2065"
      },
      "source": [
        "np.histogram(gr, bins=10, range=None, normed=None, weights=None, density=None)"
      ],
      "execution_count": 46,
      "outputs": [
        {
          "output_type": "execute_result",
          "data": {
            "text/plain": [
              "(array([11, 11, 11, 11, 11, 11, 11, 11, 11, 12]),\n",
              " array([  0.,  10.,  20.,  30.,  40.,  50.,  60.,  70.,  80.,  90., 100.]))"
            ]
          },
          "metadata": {
            "tags": []
          },
          "execution_count": 46
        }
      ]
    },
    {
      "cell_type": "markdown",
      "metadata": {
        "id": "m_Kb379pfiVH"
      },
      "source": [
        "**45. np.where**"
      ]
    },
    {
      "cell_type": "code",
      "metadata": {
        "id": "awuV-g-ifmK0",
        "colab": {
          "base_uri": "https://localhost:8080/"
        },
        "outputId": "2aa0365a-3c36-4f62-f631-3c0efd4348ab"
      },
      "source": [
        "ans = np.where((s > 2) & (s < 6))\r\n",
        "print(ans)"
      ],
      "execution_count": 47,
      "outputs": [
        {
          "output_type": "stream",
          "text": [
            "(array([0, 0, 1]), array([2, 3, 3]))\n"
          ],
          "name": "stdout"
        }
      ]
    },
    {
      "cell_type": "markdown",
      "metadata": {
        "id": "x663xLFYjooK"
      },
      "source": [
        "**46. np.diff**"
      ]
    },
    {
      "cell_type": "code",
      "metadata": {
        "colab": {
          "base_uri": "https://localhost:8080/"
        },
        "id": "yBPkiFEEjmH0",
        "outputId": "7dca518b-1c43-47d6-a490-08717f6df9f8"
      },
      "source": [
        "np.diff(s)"
      ],
      "execution_count": 48,
      "outputs": [
        {
          "output_type": "execute_result",
          "data": {
            "text/plain": [
              "array([[ 1,  1,  1],\n",
              "       [-1, -1, -1],\n",
              "       [ 1,  1,  1]])"
            ]
          },
          "metadata": {
            "tags": []
          },
          "execution_count": 48
        }
      ]
    },
    {
      "cell_type": "markdown",
      "metadata": {
        "id": "Rxuf5Sx5j9Xa"
      },
      "source": [
        "**47. np.floor**"
      ]
    },
    {
      "cell_type": "code",
      "metadata": {
        "colab": {
          "base_uri": "https://localhost:8080/"
        },
        "id": "-kdvItQzj-ZI",
        "outputId": "4d9a6358-2673-44ab-c801-39be1666f74c"
      },
      "source": [
        "r_gr = np.floor(gr)\r\n",
        "print(r_gr)"
      ],
      "execution_count": 49,
      "outputs": [
        {
          "output_type": "stream",
          "text": [
            "[  0.   0.   1.   2.   3.   4.   5.   6.   7.   8.   9.  10.  10.  11.\n",
            "  12.  13.  14.  15.  16.  17.  18.  19.  20.  20.  21.  22.  23.  24.\n",
            "  25.  26.  27.  28.  29.  30.  30.  31.  32.  33.  34.  35.  36.  37.\n",
            "  38.  39.  40.  40.  41.  42.  43.  44.  45.  46.  47.  48.  49.  50.\n",
            "  50.  51.  52.  53.  54.  55.  56.  57.  58.  59.  60.  60.  61.  62.\n",
            "  63.  64.  65.  66.  67.  68.  69.  70.  70.  71.  72.  73.  74.  75.\n",
            "  76.  77.  78.  79.  80.  80.  81.  82.  83.  84.  85.  86.  87.  88.\n",
            "  89.  90.  90.  91.  92.  93.  94.  95.  96.  97.  98.  99. 100.]\n"
          ],
          "name": "stdout"
        }
      ]
    },
    {
      "cell_type": "markdown",
      "metadata": {
        "id": "1DEi2o6MkWi3"
      },
      "source": [
        "**48. np.mean**"
      ]
    },
    {
      "cell_type": "code",
      "metadata": {
        "colab": {
          "base_uri": "https://localhost:8080/"
        },
        "id": "CGMTBkrckTOZ",
        "outputId": "47bdcd05-aac2-4098-9c1e-8d55fb7f1b67"
      },
      "source": [
        "np.mean(c)"
      ],
      "execution_count": 50,
      "outputs": [
        {
          "output_type": "execute_result",
          "data": {
            "text/plain": [
              "3.6666666666666665"
            ]
          },
          "metadata": {
            "tags": []
          },
          "execution_count": 50
        }
      ]
    },
    {
      "cell_type": "markdown",
      "metadata": {
        "id": "Oo6g4_TEkkDX"
      },
      "source": [
        "**49. np.round**"
      ]
    },
    {
      "cell_type": "code",
      "metadata": {
        "colab": {
          "base_uri": "https://localhost:8080/"
        },
        "id": "1rr9s4Kiketb",
        "outputId": "e2d1a239-8c46-4114-cb36-b84daad7131b"
      },
      "source": [
        "np.round(c, decimals = 0, out = None)"
      ],
      "execution_count": 51,
      "outputs": [
        {
          "output_type": "execute_result",
          "data": {
            "text/plain": [
              "array([[[4, 4, 4],\n",
              "        [3, 4, 2],\n",
              "        [4, 4, 4]]])"
            ]
          },
          "metadata": {
            "tags": []
          },
          "execution_count": 51
        }
      ]
    },
    {
      "cell_type": "markdown",
      "metadata": {
        "id": "k2umH4vtldmM"
      },
      "source": [
        "**50. np.dot**"
      ]
    },
    {
      "cell_type": "code",
      "metadata": {
        "colab": {
          "base_uri": "https://localhost:8080/"
        },
        "id": "KGYHI0EZkjhI",
        "outputId": "9a17e6e1-56f9-4513-a1bd-3daf177b691a"
      },
      "source": [
        "ans1 = np.dot(c,s)\r\n",
        "print(ans1)"
      ],
      "execution_count": 52,
      "outputs": [
        {
          "output_type": "stream",
          "text": [
            "[[[72 76 80 84]\n",
            "  [53 54 55 56]\n",
            "  [72 76 80 84]]]\n"
          ],
          "name": "stdout"
        }
      ]
    },
    {
      "cell_type": "code",
      "metadata": {
        "id": "xMsYkU5Clr2n"
      },
      "source": [
        ""
      ],
      "execution_count": null,
      "outputs": []
    }
  ]
}